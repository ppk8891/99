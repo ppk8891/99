{
 "cells": [
  {
   "cell_type": "code",
   "execution_count": 14,
   "id": "c4f0fba9",
   "metadata": {},
   "outputs": [],
   "source": [
    "from PIL import Image, ImageDraw, ImageFont"
   ]
  },
  {
   "cell_type": "code",
   "execution_count": 10,
   "id": "cef13717",
   "metadata": {},
   "outputs": [
    {
     "name": "stdout",
     "output_type": "stream",
     "text": [
      "Image cropped and saved as cropped_image.jpg\n"
     ]
    }
   ],
   "source": [
    "def crop_image(image_path, ratio):\n",
    "    # Open the image\n",
    "    image = Image.open(image_path)\n",
    "\n",
    "    # Get the width and height of the image\n",
    "    width, height = image.size\n",
    "\n",
    "    # Calculate the dimensions for cropping\n",
    "    if ratio == \"1:1\":\n",
    "        # Find the minimum dimension (width or height)\n",
    "        min_dimension = min(width, height)\n",
    "\n",
    "        # Calculate the coordinates for cropping\n",
    "        left = 0\n",
    "        top = 0\n",
    "        right = min_dimension\n",
    "        bottom = min_dimension\n",
    "\n",
    "    elif ratio == \"3:4\":\n",
    "        # Calculate the dimensions for cropping\n",
    "        crop_width = width\n",
    "        crop_height = (4 * width) // 3\n",
    "\n",
    "        # Calculate the coordinates for cropping\n",
    "        left = 0\n",
    "        top = (height - crop_height) // 2\n",
    "        right = crop_width\n",
    "        bottom = top + crop_height\n",
    "\n",
    "    else:\n",
    "        print(\"Invalid ratio. Please provide either '1:1' or '3:4'.\")\n",
    "        return\n",
    "\n",
    "    # Crop the image\n",
    "    cropped_image = image.crop((left, top, right, bottom))\n",
    "\n",
    "    # Save the cropped image\n",
    "    cropped_image.save(\"cropped_image.jpg\")\n",
    "\n",
    "    # Close the image\n",
    "    image.close()\n",
    "\n",
    "    print(\"Image cropped and saved as cropped_image.jpg\")\n",
    "\n",
    "# Call the function and provide the image path and ratio as arguments\n",
    "crop_image(\"image99.jpg\", \"1:1\")"
   ]
  },
  {
   "cell_type": "code",
   "execution_count": 31,
   "id": "c212d2b8",
   "metadata": {},
   "outputs": [],
   "source": [
    "def add_watermark(image_path, watermark_text, opacity):\n",
    "    # Open the image\n",
    "    image = Image.open(image_path)\n",
    "\n",
    "    # Create a copy of the image to add the watermark\n",
    "    watermarked_image = image.copy()\n",
    "\n",
    "    # Get the dimensions of the image\n",
    "    image_width, image_height = image.size\n",
    "\n",
    "    # Create a transparent image with an alpha channel\n",
    "    watermark = Image.new(\"RGBA\", (image_width, image_height), (0, 0, 0, 0))\n",
    "\n",
    "    # Create a drawing object for the watermark\n",
    "    draw = ImageDraw.Draw(watermark)\n",
    "\n",
    "    # Choose the font and size for the watermark text\n",
    "    font_size = 50\n",
    "    font_path = \"arial.ttf\"\n",
    "    font = ImageFont.truetype(font_path, size=font_size)\n",
    "\n",
    "    # Calculate the width and height of the watermark text\n",
    "    text_width, text_height = draw.textsize(watermark_text, font=font)\n",
    "\n",
    "    # Calculate the starting position for the watermark text\n",
    "    start_x = (image_width - text_width) // 2\n",
    "    start_y = (image_height - text_height) // 2\n",
    "\n",
    "    # Set the color and opacity of the watermark text\n",
    "    text_color = (255, 255, 255, opacity)\n",
    "\n",
    "    # Draw the watermark text onto the transparent image\n",
    "    draw.text((start_x, start_y), watermark_text, font=font, fill=text_color)\n",
    "\n",
    "    # Composite the transparent image onto the watermarked image\n",
    "    watermarked_image.paste(watermark, (0, 0), mask=watermark)\n",
    "\n",
    "    # Save the watermarked image\n",
    "    watermarked_image.save(\"watermarked_image.jpg\")\n",
    "\n",
    "    # Close the images\n",
    "    image.close()\n",
    "    watermarked_image.close()\n",
    "\n",
    "# Call the function and provide the image path, the text for the watermark, and the opacity (0-255)\n",
    "add_watermark(\"image99.jpg\", \"The 99's The 99's The 99's\", 70)\n"
   ]
  },
  {
   "cell_type": "code",
   "execution_count": null,
   "id": "26549d0a",
   "metadata": {},
   "outputs": [],
   "source": []
  }
 ],
 "metadata": {
  "kernelspec": {
   "display_name": "Python 3 (ipykernel)",
   "language": "python",
   "name": "python3"
  },
  "language_info": {
   "codemirror_mode": {
    "name": "ipython",
    "version": 3
   },
   "file_extension": ".py",
   "mimetype": "text/x-python",
   "name": "python",
   "nbconvert_exporter": "python",
   "pygments_lexer": "ipython3",
   "version": "3.9.13"
  }
 },
 "nbformat": 4,
 "nbformat_minor": 5
}
